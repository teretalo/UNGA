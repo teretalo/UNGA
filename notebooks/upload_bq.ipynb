{
 "cells": [
  {
   "cell_type": "code",
   "execution_count": 1,
   "metadata": {},
   "outputs": [],
   "source": [
    "from google.cloud import storage\n",
    "client = storage.Client()\n"
   ]
  },
  {
   "cell_type": "code",
   "execution_count": 2,
   "metadata": {},
   "outputs": [],
   "source": [
    "bucket = client.bucket(\"un_project_lewagon\")\n",
    "files = bucket.list_blobs()\n",
    "file = [each.name for each in files if \"unga_updated\" in each.name]\n"
   ]
  },
  {
   "cell_type": "code",
   "execution_count": 4,
   "metadata": {},
   "outputs": [],
   "source": [
    "blob = bucket.blob(file[0])\n",
    "blob.download_to_filename(\"speeches.csv\")\n"
   ]
  },
  {
   "cell_type": "code",
   "execution_count": 7,
   "metadata": {},
   "outputs": [
    {
     "data": {
      "text/plain": [
       "LoadJob<project=wagon-388210, location=US, id=b84a862b-2836-473f-833a-8a08d91d7913>"
      ]
     },
     "execution_count": 7,
     "metadata": {},
     "output_type": "execute_result"
    }
   ],
   "source": [
    "from google.cloud import bigquery\n",
    "import pandas as pd\n",
    "client = bigquery.Client()\n",
    "table = \"speeches\"\n",
    "table_name = f\"wagon-388210.production_dataset.{table}\"\n",
    "\n",
    "df = pd.read_csv(\"speeches.csv\")\n",
    "\n",
    "job_config = \"WRITE_TRUNCATE\"\n",
    "\n",
    "job = bigquery.LoadJobConfig(write_disposition=job_config)\n",
    "\n",
    "client.load_table_from_dataframe(dataframe=df, destination=table_name, job_config=job)\n"
   ]
  },
  {
   "cell_type": "code",
   "execution_count": null,
   "metadata": {},
   "outputs": [],
   "source": []
  }
 ],
 "metadata": {
  "kernelspec": {
   "display_name": "lewagon",
   "language": "python",
   "name": "python3"
  },
  "language_info": {
   "codemirror_mode": {
    "name": "ipython",
    "version": 3
   },
   "file_extension": ".py",
   "mimetype": "text/x-python",
   "name": "python",
   "nbconvert_exporter": "python",
   "pygments_lexer": "ipython3",
   "version": "3.10.6"
  }
 },
 "nbformat": 4,
 "nbformat_minor": 2
}
