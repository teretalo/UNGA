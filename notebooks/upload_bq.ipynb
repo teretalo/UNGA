{
 "cells": [
  {
   "cell_type": "code",
   "execution_count": 10,
   "metadata": {},
   "outputs": [],
   "source": [
    "from google.cloud import storage\n",
    "client = storage.Client()\n"
   ]
  },
  {
   "cell_type": "code",
   "execution_count": 11,
   "metadata": {},
   "outputs": [],
   "source": [
    "bucket = client.bucket(\"ungadata\")\n",
    "files = bucket.list_blobs()\n",
    "file = [each.name for each in files if \"unga_updated\" in each.name]\n"
   ]
  },
  {
   "cell_type": "code",
   "execution_count": 16,
   "metadata": {},
   "outputs": [
    {
     "data": {
      "text/plain": [
       "<google.api_core.page_iterator.HTTPIterator at 0x1214e1ae0>"
      ]
     },
     "execution_count": 16,
     "metadata": {},
     "output_type": "execute_result"
    }
   ],
   "source": [
    "file\n"
   ]
  },
  {
   "cell_type": "code",
   "execution_count": 14,
   "metadata": {},
   "outputs": [],
   "source": [
    "blob = bucket.blob(file[0])\n",
    "blob.download_to_filename(\"recoded.csv\")\n"
   ]
  },
  {
   "cell_type": "code",
   "execution_count": 19,
   "metadata": {},
   "outputs": [
    {
     "data": {
      "text/plain": [
       "LoadJob<project=wagon-388210, location=US, id=97e4749b-d4cd-4283-9584-f551f92548cc>"
      ]
     },
     "execution_count": 19,
     "metadata": {},
     "output_type": "execute_result"
    }
   ],
   "source": [
    "from google.cloud import bigquery\n",
    "import pandas as pd\n",
    "client = bigquery.Client()\n",
    "table = \"recoded\"\n",
    "table_name = f\"wagon-388210.production_dataset.{table}\"\n",
    "\n",
    "df = pd.read_csv(\"recoded.csv\")\n",
    "\n",
    "job_config = \"WRITE_TRUNCATE\"\n",
    "\n",
    "job = bigquery.LoadJobConfig(write_disposition=job_config)\n",
    "\n",
    "client.load_table_from_dataframe(dataframe=df, destination=table_name, job_config=job)\n"
   ]
  },
  {
   "cell_type": "code",
   "execution_count": 17,
   "metadata": {},
   "outputs": [],
   "source": [
    "df = pd.read_csv('/Users/teresa/code/teretalo/unga/speeches-at-UN/0_functional_app/notebooks/speeches_1.csv')\n"
   ]
  },
  {
   "cell_type": "code",
   "execution_count": 18,
   "metadata": {},
   "outputs": [
    {
     "data": {
      "text/plain": [
       "Index(['iso', 'year', 'speeches', 'country_dup', 'Name of Person Speaking',\n",
       "       'Post', 'order', 'country', 'speech_length', 'cleaned_speeches',\n",
       "       'preprocessed_speech', 'topic_num', 'topic', 'score',\n",
       "       'countries_mentioned', 'top_5_words', 'bert_topic', 'bert_prob',\n",
       "       'ber_topic_words', 'decade', 'year_range', 'continent'],\n",
       "      dtype='object')"
      ]
     },
     "execution_count": 18,
     "metadata": {},
     "output_type": "execute_result"
    }
   ],
   "source": [
    "df.columns\n"
   ]
  },
  {
   "cell_type": "code",
   "execution_count": null,
   "metadata": {},
   "outputs": [],
   "source": []
  }
 ],
 "metadata": {
  "kernelspec": {
   "display_name": "lewagon",
   "language": "python",
   "name": "python3"
  },
  "language_info": {
   "codemirror_mode": {
    "name": "ipython",
    "version": 3
   },
   "file_extension": ".py",
   "mimetype": "text/x-python",
   "name": "python",
   "nbconvert_exporter": "python",
   "pygments_lexer": "ipython3",
   "version": "3.10.6"
  }
 },
 "nbformat": 4,
 "nbformat_minor": 2
}
